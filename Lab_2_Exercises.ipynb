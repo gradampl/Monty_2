{
 "cells": [
  {
   "cell_type": "code",
   "execution_count": 1,
   "metadata": {},
   "outputs": [
    {
     "name": "stdout",
     "output_type": "stream",
     "text": [
      "attends all classes...\n",
      "Zenon Laskowik is currently taking an exam in \n",
      "attends selected classes...\n",
      "Juana Carlos is currently taking an exam in \n"
     ]
    }
   ],
   "source": [
    "# Have a go at object oriented programming. Create a Student class with some functions.\n",
    "\n",
    "\"\"\"docstring for module\"\"\"\n",
    "\n",
    "class Student:\n",
    "    \"\"\"docstring for class\"\"\"\n",
    "    \n",
    "    def __init__(self, id_number, name, surname, gender):\n",
    "        \"\"\"constructor\"\"\"\n",
    "        self.id_number = id_number\n",
    "        self.name = name\n",
    "        self.surname = surname\n",
    "        self.gender = gender\n",
    "\n",
    "    def attend_class(self):\n",
    "        return 'attends all classes...'\n",
    "\n",
    "    def take_exam(self):\n",
    "        return f'{self.name} {self.surname} is currently taking an exam in '\n",
    "\n",
    "\n",
    "class ErasmusStudent(Student):\n",
    "    def attend_class(self):\n",
    "        return 'attends selected classes...'\n",
    "\n",
    "\n",
    "student_1 = Student('142441', 'Zenon', 'Laskowik', 'male')\n",
    "print(student_1.attend_class())\n",
    "print(student_1.take_exam())\n",
    "\n",
    "student_2 = ErasmusStudent('132421', 'Juana', 'Carlos', 'female')\n",
    "print(student_2.attend_class())\n",
    "print(student_2.take_exam())"
   ]
  },
  {
   "cell_type": "code",
   "execution_count": 2,
   "metadata": {},
   "outputs": [
    {
     "name": "stdout",
     "output_type": "stream",
     "text": [
      " In this case, a situation may arise where a new line will be printed after each output line. This is because the print function adds the character \\ n to the end, which means a new line, and if such a character was read from the file, we have the answer why this is happening. To change this, you can set the value of the end parameter of the print function to something other than the default value."
     ]
    }
   ],
   "source": [
    "# Play a bit with files. Read a file, change the contents and save.\n",
    "# Remember to add the file to the repository.\n",
    "        \n",
    "file = open(r'E:\\Adam\\klient\\test_1.txt', 'w', encoding='utf-8')\n",
    "file.write(' In this case, a situation may arise where a new line'\n",
    "           ' will be printed after each output line. This is because'\n",
    "           ' the print function adds the character \\ n to the end,'\n",
    "           ' which means a new line, and if such a character was'\n",
    "           ' read from the file, we have the answer why this is'\n",
    "           ' happening. To change this, you can set the value of'\n",
    "           ' the end parameter of the print function to something'\n",
    "           ' other than the default value.')\n",
    "file.close()\n",
    "\n",
    "with open(r'E:\\Adam\\klient\\test_1.txt', 'r') as file_reader:\n",
    "    for row in file_reader:\n",
    "        print(row, end='')"
   ]
  },
  {
   "cell_type": "code",
   "execution_count": 3,
   "metadata": {},
   "outputs": [
    {
     "name": "stdout",
     "output_type": "stream",
     "text": [
      "[2, 4, 6, 11, 13, 15]\n"
     ]
    }
   ],
   "source": [
    "# Create a function that takes two lists a_list andb_list as parameters.\n",
    "# Then return a list that will have even indexes from list a_list and odd indexes from b_list.\n",
    "\n",
    "def lists(a_list, b_list):\n",
    "    a = [i for i in a_list if i % 2 == 0]\n",
    "    b = [i for i in b_list if i % 2 != 0]\n",
    "    return a + b\n",
    "\n",
    "\n",
    "print(lists([1, 2, 3, 4, 5, 6], [11, 12, 13, 14, 15, 16]))"
   ]
  },
  {
   "cell_type": "code",
   "execution_count": 4,
   "metadata": {},
   "outputs": [
    {
     "name": "stdout",
     "output_type": "stream",
     "text": [
      "{'length': 44, 'letters': ['b', 'a', 'j', 'd', 'u', 'r', 'z', 'e', 'n', 'i', 'e', ' ', 'o', ' ', 'S', 'z', 'o', 'p', 'e', 'n', 'i', 'e', ',', ' ', 'g', 'a', 'w', 'o', 'r', 'z', 'e', 'n', 'i', 'e', ' ', 'o', ' ', 'M', 'i', 'l', 'e', 'n', 'i', 'e'], 'big_letters': 'BAJDURZENIE O SZOPENIE, GAWORZENIE O MILENIE', 'small_letters': 'bajdurzenie o szopenie, gaworzenie o milenie'}\n"
     ]
    }
   ],
   "source": [
    "# Create a function that accepts the data_text parameter and then returns the following\n",
    "# parameter information in the form of a dictionary (dict):\n",
    "\n",
    "#     length: the length of the given text,\n",
    "#     letters: a list of characters in the word e.g.['D', 'o', 'g'],\n",
    "#     big_letters: parameter converted into small caps, e.g.DOG\n",
    "#     small_letters: parameter changed to lowercase e.g.dog\n",
    "\n",
    "\n",
    "def text(data_text):\n",
    "    dict = {'length': len(data_text),\n",
    "            'letters': [i for i in data_text],\n",
    "            'big_letters': data_text.upper(),\n",
    "            'small_letters': data_text.lower()}\n",
    "    return dict\n",
    "\n",
    "\n",
    "print(text('bajdurzenie o Szopenie, gaworzenie o Milenie'))"
   ]
  },
  {
   "cell_type": "code",
   "execution_count": 5,
   "metadata": {},
   "outputs": [
    {
     "name": "stdout",
     "output_type": "stream",
     "text": [
      "arszaa da się lubić!\n"
     ]
    }
   ],
   "source": [
    "# Create a function that accepts text andletter as parameters, and then returns \n",
    "# the result of removing all instances of the value in letter from the texttext.\n",
    "\n",
    "def remove_letter(text, letter):\n",
    "    text_new = ''\n",
    "    for i in range(len(text)):\n",
    "        if text[i].lower() == letter:\n",
    "            continue\n",
    "        else:\n",
    "            text_new += text[i]\n",
    "    return text_new\n",
    "\n",
    "\n",
    "print(remove_letter('Warszawa da się lubić!', 'w'))"
   ]
  },
  {
   "cell_type": "code",
   "execution_count": 6,
   "metadata": {},
   "outputs": [
    {
     "name": "stdout",
     "output_type": "stream",
     "text": [
      "Podaj liczbę stopni: \n",
      "34\n",
      "Temperatura 34 st. C to 334.34 st. R.\n"
     ]
    }
   ],
   "source": [
    "# Create a function that converts the temperature in degrees Celsius to Fahrenheit,\n",
    "# Rankine, Kelvin. The conversion type should be passed in the parameter temperature_type\n",
    "# and include incorrect values.\n",
    "\n",
    "def convert(temperature_type):\n",
    "    ok = False\n",
    "    while not ok:\n",
    "        degrees = input('Podaj liczbę stopni: \\n')\n",
    "        try:\n",
    "            ok = float(degrees)\n",
    "        except ValueError:\n",
    "            print('Nie znam takiej liczby.\\n')\n",
    "    if temperature_type.lower() == 'f':\n",
    "        print('Temperatura {:.{prec}} st. C to {:.{prec}} st. F.'\n",
    "              .format(str(degrees), str(9 / 5 * float(degrees) + 32), prec=6))\n",
    "    elif temperature_type.lower() == 'k':\n",
    "        print('Temperatura {:.{prec}} st. C to {:.{prec}} st. K.'\n",
    "              .format(str(degrees), str(float(degrees) + 273.15), prec=6))\n",
    "    else:\n",
    "        print('Temperatura {:.{prec}} st. C to {:.{prec}} st. R.'\n",
    "              .format(str(degrees), str(9 / 5 * float(degrees) + 273.15), prec=6))\n",
    "\n",
    "\n",
    "convert('r')"
   ]
  },
  {
   "cell_type": "code",
   "execution_count": 7,
   "metadata": {},
   "outputs": [],
   "source": [
    "# Create a class Calculator that will have the functions\n",
    "# add, difference,multiply, divide.\n",
    "\n",
    "class Calculator:\n",
    "    def add(self, a, b):\n",
    "        return a + b\n",
    "\n",
    "    def subtract(self, a, b):\n",
    "        return a - b\n",
    "\n",
    "    def multiply(self, a, b):\n",
    "        return a * b\n",
    "\n",
    "    def divide(self, a, b):\n",
    "        return a / b"
   ]
  },
  {
   "cell_type": "code",
   "execution_count": 8,
   "metadata": {},
   "outputs": [],
   "source": [
    "# Create a Science Calculator class that inherits from the Calculator class \n",
    "# and add additional functions, e.g. exponentiation\n",
    "\n",
    "class ScientificCalculator(Calculator):\n",
    "    def power(self, a, b):\n",
    "        return a ** b\n",
    "\n",
    "    def sin(self, a):\n",
    "        return math.sin(a)\n",
    "\n",
    "    def cos(self, a):\n",
    "        return math.cos(a)\n",
    "\n",
    "    def factorial(self, a):\n",
    "        if int(a) == 0 or int(a) == 1:\n",
    "            return a\n",
    "        else:\n",
    "            f = 1\n",
    "            for i in range(2, int(a) + 1):\n",
    "                f *= i\n",
    "        return f"
   ]
  },
  {
   "cell_type": "code",
   "execution_count": 9,
   "metadata": {},
   "outputs": [
    {
     "name": "stdout",
     "output_type": "stream",
     "text": [
      "\"atazrogłaM i zrtsiM\" ,wokahłuB - \"ędogop jaisizd ymam ąndał żowokandeJ\"\n"
     ]
    }
   ],
   "source": [
    "# Create a function that prints the given text\n",
    "# from the back, e.g. kitty -> yttik.\n",
    "\n",
    "def backwards(text):\n",
    "    print('{0}'.format(text[::-1]))\n",
    "\n",
    "\n",
    "backwards('\"Jednakowoż ładną mamy dzisiaj pogodę\"'\n",
    "          ' - Bułhakow, \"Mistrz i Małgorzata\"')"
   ]
  },
  {
   "cell_type": "code",
   "execution_count": 10,
   "metadata": {},
   "outputs": [
    {
     "name": "stdout",
     "output_type": "stream",
     "text": [
      "Tekst testowy w pliku testowym\n",
      "Tekst testowy w pliku testowym i jeszcze coś!\n"
     ]
    }
   ],
   "source": [
    "# Create a class FileManager with a parameter in the constructor\n",
    "# file_name. The class will contain two methods: read_file \n",
    "# and update_file. The update_file function should contain\n",
    "# the text_data parameter, which in effect should be appended\n",
    "# at the end of the file. The read_file function should\n",
    "# return the contents of the file.\n",
    "\n",
    "class FileManager:\n",
    "    def __init__(self, file_name):\n",
    "        self.file_name = file_name\n",
    "\n",
    "    def read_file(self):\n",
    "        file = open(self.file_name, 'r')\n",
    "        data = file.read()\n",
    "        file.close()\n",
    "        return data\n",
    "\n",
    "    def update_file(self, text_data):\n",
    "        file = open(self.file_name, 'a')\n",
    "        file.write(text_data)\n",
    "        file.close()\n",
    "\n",
    "\n",
    "fm = FileManager('E:\\\\Adam\\\\klient\\\\test_3.txt')\n",
    "print(fm.read_file())\n",
    "fm.update_file(' i jeszcze coś!')\n",
    "print(fm.read_file())"
   ]
  },
  {
   "cell_type": "code",
   "execution_count": 11,
   "metadata": {
    "scrolled": false
   },
   "outputs": [
    {
     "data": {
      "text/plain": [
       "\"Janet doesn't turn on the lights, she turns off the dark.\""
      ]
     },
     "execution_count": 11,
     "metadata": {},
     "output_type": "execute_result"
    }
   ],
   "source": [
    "# Create a new virtualenv (or conda environment) in the project folder\n",
    "# and then install the module: https://github.com/yougov/chucknorris. \n",
    "# Create a function that will connect to the downloaded module.\n",
    "\n",
    "import sys   \n",
    "sys.path.append('C:\\\\Users\\\\Adam\\\\mypython\\\\Lib\\\\site-packages')\n",
    "import chucknorris.quips as q\n",
    "q.random('Janet')\n",
    "\n",
    "# Any attempt to make a function with the two imports inside results in a SyntaxError."
   ]
  },
  {
   "cell_type": "code",
   "execution_count": null,
   "metadata": {},
   "outputs": [],
   "source": []
  },
  {
   "cell_type": "code",
   "execution_count": null,
   "metadata": {},
   "outputs": [],
   "source": []
  }
 ],
 "metadata": {
  "kernelspec": {
   "display_name": "Python 3",
   "language": "python",
   "name": "python3"
  },
  "language_info": {
   "codemirror_mode": {
    "name": "ipython",
    "version": 3
   },
   "file_extension": ".py",
   "mimetype": "text/x-python",
   "name": "python",
   "nbconvert_exporter": "python",
   "pygments_lexer": "ipython3",
   "version": "3.7.6"
  }
 },
 "nbformat": 4,
 "nbformat_minor": 4
}
