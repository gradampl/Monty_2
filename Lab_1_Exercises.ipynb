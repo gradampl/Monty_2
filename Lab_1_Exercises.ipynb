{
 "cells": [
  {
   "cell_type": "code",
   "execution_count": 1,
   "metadata": {},
   "outputs": [
    {
     "name": "stdout",
     "output_type": "stream",
     "text": [
      "This works!\n",
      "OneBigString4\n"
     ]
    }
   ],
   "source": [
    "# Using the PEP8 styling guide fix the code below.\n",
    "\n",
    "my_variable = 3.2\n",
    "my_text = 'Some string'\n",
    "if (my_variable > 2\n",
    "        and len(my_text) == 11):\n",
    "    my_variable = 0\n",
    "    print('This works!')\n",
    "\n",
    "\n",
    "def my_function(a, b):\n",
    "    return a + b\n",
    "\n",
    "\n",
    "class MyAwesomeObject:\n",
    "    def __init__(self, description):\n",
    "        self.description = description\n",
    "        self.sum = my_function(1, 3)\n",
    "\n",
    "    def __str__(self):\n",
    "        return self.description + str(self.sum)\n",
    "\n",
    "\n",
    "x = MyAwesomeObject('One' + 'Big' + 'String')\n",
    "print(x)"
   ]
  },
  {
   "cell_type": "code",
   "execution_count": 2,
   "metadata": {},
   "outputs": [],
   "source": [
    "# Download the paragraph text \"What is Lorem Ipsum\" \n",
    "# from https://pl.lipsum.com/ and assign it to a variable.\n",
    "\n",
    "lorem = 'Lorem Ipsum jest tekstem stosowanym jako przykładowy' \\\n",
    "        ' wypełniacz w przemyśle poligraficznym. Został po raz' \\\n",
    "        ' pierwszy użyty w XV w. przez nieznanego drukarza ' \\\n",
    "        'do wypełnienia tekstem próbnej książki. Pięć wieków ' \\\n",
    "        'później zaczął być używany przemyśle elektronicznym,' \\\n",
    "        ' pozostając praktycznie niezmienionym. Spopularyzował' \\\n",
    "        ' się w latach 60. XX w. wraz z publikacją arkuszy ' \\\n",
    "        'Letrasetu, zawierających fragmenty Lorem Ipsum, ' \\\n",
    "        'a ostatnio z zawierającym różne wersje Lorem Ipsum ' \\\n",
    "        'oprogramowaniem przeznaczonym do realizacji druków ' \\\n",
    "        'na komputerach osobistych, jak Aldus PageMaker'"
   ]
  },
  {
   "cell_type": "code",
   "execution_count": 3,
   "metadata": {},
   "outputs": [
    {
     "name": "stdout",
     "output_type": "stream",
     "text": [
      "In the text there are 6 letters from the name and 40 letters from the surname\n"
     ]
    }
   ],
   "source": [
    "# Return from cell the text \"In the text there are {letter_1} \n",
    "# letters from name and {letter_2} letters from surname\". \n",
    "# In place of {} substitute variables that will store \n",
    "# the number of occurrences of given letters. The letters\n",
    "# to be searched should as an index to the 3rd character\n",
    "# of the surname and the 2nd character of the first name\n",
    "# of the person performing the exercise. Use the paragraph\n",
    "# text from previous cell.\n",
    "\n",
    "name = 'Adam'\n",
    "surname = 'Grabowski'\n",
    "letter_1 = name[1]\n",
    "letter_2 = surname[2]\n",
    "print('In the text there are {0} letters from the name'\n",
    "      ' and {1} letters from the surname'\n",
    "      .format(lorem.count(letter_1), lorem.count(letter_2)))"
   ]
  },
  {
   "cell_type": "code",
   "execution_count": 4,
   "metadata": {},
   "outputs": [
    {
     "name": "stdout",
     "output_type": "stream",
     "text": [
      "  42\n",
      "   test   \n",
      "Gib = 2.718\n",
      "     +2.72\n",
      "2001-02-03 04:05\n"
     ]
    }
   ],
   "source": [
    "# Go to https://pyformat.info/ and copy 5 selected examples\n",
    "# of string formatting marked \"New\", which were not in \n",
    "# the examples in this section (e.g. with alignment, \n",
    "# number of positions, mark etc.).\n",
    "\n",
    "\n",
    "print('{:4d}'.format(42))\n",
    "print('{:{align}{width}}'.format('test', align='^', width='10'))\n",
    "print('{:.{prec}} = {:.{prec}f}'.format('Gibberish', 2.7182, prec=3))\n",
    "print('{:{}{}{}.{}}'.format(2.7182818284, '>', '+', 10, 3))\n",
    "\n",
    "\n",
    "from datetime import datetime\n",
    "\n",
    "print('{:%Y-%m-%d %H:%M}'.format(datetime(2001, 2, 3, 4, 5)))"
   ]
  },
  {
   "cell_type": "code",
   "execution_count": 5,
   "metadata": {},
   "outputs": [
    {
     "name": "stdout",
     "output_type": "stream",
     "text": [
      "Ikswobarg Mada\n"
     ]
    }
   ],
   "source": [
    "# Search the Internet for \"extended slice\" in the Python context\n",
    "# and display your name in reversed order with small caps.\n",
    "# E.g. Iksnizdumz Zsakul\n",
    "\n",
    "print('{0} {1}'.format(surname[::-1].lower().capitalize(),\n",
    "                       name[::-1].lower().capitalize()))"
   ]
  },
  {
   "cell_type": "code",
   "execution_count": 6,
   "metadata": {},
   "outputs": [
    {
     "name": "stdout",
     "output_type": "stream",
     "text": [
      "Lista 1 na poczatku: [1, 2, 3, 4, 5, 6, 7, 8, 9, 10]\n",
      "Lista 1: [1, 2, 3, 4, 5]\n",
      "Lista 2: [6, 7, 8, 9, 10]\n"
     ]
    }
   ],
   "source": [
    "# Create a list with values from 1 to 10. Then divide the list so that \n",
    "# the first 5 numbers remain in the original list and the remaining 5\n",
    "# are in the new list.\n",
    "\n",
    "list_1 = []\n",
    "for i in range(10):\n",
    "    list_1.append(i + 1)\n",
    "print('Lista 1 na poczatku: ' + str(list_1))\n",
    "list_2 = []\n",
    "i = 0\n",
    "while i < int(len(list_1) / 2):\n",
    "    list_2.append(list_1[int(len(list_1) / 2) + i])\n",
    "    i += 1\n",
    "del list_1[5:]\n",
    "print('Lista 1: ' + str(list_1))\n",
    "print('Lista 2: ' + str(list_2))"
   ]
  },
  {
   "cell_type": "code",
   "execution_count": 7,
   "metadata": {},
   "outputs": [
    {
     "name": "stdout",
     "output_type": "stream",
     "text": [
      "[10, 9, 8, 7, 6, 5, 4, 3, 2, 1, 0]\n"
     ]
    }
   ],
   "source": [
    "# Link these lists again. Add 0 to the list first. \n",
    "# Make a copy of the combined list and display the list\n",
    "# sorted in descending order.\n",
    "\n",
    "list_1.append(0)\n",
    "list_1.extend(list_2)\n",
    "list_copy = list_1.copy()\n",
    "list_copy.sort(reverse=True)\n",
    "print(list_copy)"
   ]
  },
  {
   "cell_type": "code",
   "execution_count": 8,
   "metadata": {},
   "outputs": [],
   "source": [
    "# Use the tuples to create a list of students in your \n",
    "# group by assigning an index number \n",
    "# to name (the data does not have to be true).\n",
    "\n",
    "student_1 = (1313, 'Żytkiewicz Jacek')\n",
    "student_2 = (1111, 'Martyniuk Zenek')\n",
    "student_3 = (1212, 'Chrząszczyrzewoszycka Jolanta')\n",
    "student_4 = (1414, 'Arbeitsunfaehigkeitsbescheinigung Adrianna')\n",
    "\n",
    "student_list = [student_1, student_2, student_3, student_4]"
   ]
  },
  {
   "cell_type": "code",
   "execution_count": 9,
   "metadata": {},
   "outputs": [],
   "source": [
    "# Convert your previous assignment to a dictionary, then add pairs\n",
    "# containing age, email address, year of birth and address \n",
    "# (data does not have to be true).\n",
    "\n",
    "dict_st_list = dict(student_list)\n",
    "\n",
    "student_5 = {'name': 'Nahonodozor Vivianna',\n",
    "             'age': '23', 'email': 'nah@wp.pl',\n",
    "             'birth_year': '1997',\n",
    "             'address': 'Rataja 9, 10-100 Olsztyn'}\n",
    "\n",
    "student_6 = {'name': 'Vielendank Dariusz',\n",
    "             'age': '24', 'email': 'vd@o2.pl',\n",
    "             'birth_year': '1996',\n",
    "             'address': 'Bema 2, 87-100, Toruń'}\n",
    "\n",
    "dict_st_list[1515] = student_5\n",
    "dict_st_list[1616] = student_6"
   ]
  },
  {
   "cell_type": "code",
   "execution_count": 10,
   "metadata": {},
   "outputs": [],
   "source": [
    "# Create a list of phone numbers with repetitions, and then delete\n",
    "# the repetitions by casting to set.\n",
    "\n",
    "tel = ['Cola 4241',\n",
    "       'Jola 4098',\n",
    "       'Pola 4139',\n",
    "       'Lola 4127',\n",
    "       'Tola 4422',\n",
    "       'Cola 4241',\n",
    "       'Jola 4098',\n",
    "       'Pola 4139',\n",
    "       'Tola 4422'\n",
    "       ]\n",
    "tel_2 = set(tel)"
   ]
  },
  {
   "cell_type": "code",
   "execution_count": 11,
   "metadata": {},
   "outputs": [
    {
     "name": "stdout",
     "output_type": "stream",
     "text": [
      "1 2 3 4 5 6 7 8 9 10 "
     ]
    }
   ],
   "source": [
    "# Using the range function, list items ascending from 1 - 10\n",
    "\n",
    "for i in range(1, 11):\n",
    "    print(i, end=' ')"
   ]
  },
  {
   "cell_type": "code",
   "execution_count": 12,
   "metadata": {},
   "outputs": [
    {
     "name": "stdout",
     "output_type": "stream",
     "text": [
      "100 95 90 85 80 75 70 65 60 55 50 45 40 35 30 25 20 "
     ]
    }
   ],
   "source": [
    "# Using the range function, write items\n",
    "# descending from 100 - 20, every 5 values.\n",
    "\n",
    "for i in range(20, 101, 5).__reversed__():\n",
    "    print(i, end=' ')"
   ]
  },
  {
   "cell_type": "code",
   "execution_count": 13,
   "metadata": {},
   "outputs": [
    {
     "name": "stdout",
     "output_type": "stream",
     "text": [
      "Hallo, I'm Robin. I'm 16 years old. I like eating whatever finds its way to my plate\n",
      "and listening to my cd's. I adore my dog (I wish my parrot would never find out!),\n",
      "and my dog George loves playing with my favourite pair of slippers. I've got a parrot,\n",
      "too. Her name's Susan and she loves playing with my uncle Bobby's moustache. He always\n",
      "offers her some cereals. That's why she likes uncle Bobby best, not me, sadly. \n",
      "But George is very fond of me, 'cause he likes eating meat so, obviously, he likes\n",
      "the one who gives him his favourite food.\n"
     ]
    }
   ],
   "source": [
    "# Combine all the knowledge obtained from the classes \n",
    "# (and tasks) and create a program that writes data \n",
    "# from a list that contains several dictionaries \n",
    "# (write the data in the form of one string, \n",
    "# formatting it accordingly).\n",
    "\n",
    "my_dog = {'name': 'George', 'fav_food': 'meat',\n",
    "          'fav_human': 'the one who gives him his favourite food',\n",
    "          'fav_toy': 'my favourite pair of slippers'}\n",
    "\n",
    "my_parrot = {'name': 'Susan', 'fav_food': 'cereals',\n",
    "             'fav_human': 'uncle Bobby',\n",
    "             'fav_toy': 'uncle Bobby\\'s moustache'}\n",
    "\n",
    "my_pets = {'1': my_dog, '2': my_parrot}\n",
    "\n",
    "myself = {'name': 'Robin', 'age': '16',\n",
    "          'fav_food': 'whatever finds its way to my plate',\n",
    "          'fav_animal': 'my dog (I wish my parrot would never find out!)',\n",
    "          'fav_pastime': 'listening to my cd\\'s'}\n",
    "\n",
    "robin = [myself, my_pets]\n",
    "\n",
    "confession = ('Hallo, I\\'m {0}. I\\'m {1} years old. I like eating {2}\\n'\n",
    "              'and {3}. I adore {4},\\nand my dog {5} loves playing with {6}. '\n",
    "              'I\\'ve got a parrot,\\ntoo. Her name\\'s {7} and she loves '\n",
    "              'playing with my {8}. He always\\noffers her some {9}. '\n",
    "              'That\\'s why she likes {10} best, not me, sadly. '\n",
    "              '\\nBut {11} is very fond of me, \\'cause he likes'\n",
    "              ' eating {12} so, obviously, he likes\\n{13}.'\n",
    "              .format(robin[0]['name'], robin[0]['age'],\n",
    "                      robin[0]['fav_food'], robin[0]['fav_pastime'],\n",
    "                      robin[0]['fav_animal'], robin[1]['1']['name'],\n",
    "                      robin[1]['1']['fav_toy'], robin[1]['2']['name'],\n",
    "                      robin[1]['2']['fav_toy'], robin[1]['2']['fav_food'],\n",
    "                      robin[1]['2']['fav_human'], robin[1]['1']['name'],\n",
    "                      robin[1]['1']['fav_food'], robin[1]['1']['fav_human']))\n",
    "\n",
    "print(confession)"
   ]
  },
  {
   "cell_type": "code",
   "execution_count": null,
   "metadata": {},
   "outputs": [],
   "source": []
  }
 ],
 "metadata": {
  "kernelspec": {
   "display_name": "Python 3",
   "language": "python",
   "name": "python3"
  },
  "language_info": {
   "codemirror_mode": {
    "name": "ipython",
    "version": 3
   },
   "file_extension": ".py",
   "mimetype": "text/x-python",
   "name": "python",
   "nbconvert_exporter": "python",
   "pygments_lexer": "ipython3",
   "version": "3.7.6"
  }
 },
 "nbformat": 4,
 "nbformat_minor": 4
}
